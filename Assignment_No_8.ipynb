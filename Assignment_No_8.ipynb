{
  "nbformat": 4,
  "nbformat_minor": 0,
  "metadata": {
    "colab": {
      "provenance": []
    },
    "kernelspec": {
      "name": "python3",
      "display_name": "Python 3"
    },
    "language_info": {
      "name": "python"
    }
  },
  "cells": [
    {
      "cell_type": "markdown",
      "source": [
        "1️⃣ Math module import karo aur math.sqrt(16) aur math.pi use karo."
      ],
      "metadata": {
        "id": "6em_DSbrREvb"
      }
    },
    {
      "cell_type": "code",
      "execution_count": null,
      "metadata": {
        "id": "9PakobDqPPaM",
        "colab": {
          "base_uri": "https://localhost:8080/"
        },
        "outputId": "ae9dfe56-bef6-4c60-8fd1-8b1d07680b9d"
      },
      "outputs": [
        {
          "output_type": "stream",
          "name": "stdout",
          "text": [
            "4.0\n",
            "3.141592653589793\n"
          ]
        }
      ],
      "source": [
        "import math\n",
        "\n",
        "print(math.sqrt(16))\n",
        "print(math.pi)"
      ]
    },
    {
      "cell_type": "markdown",
      "source": [
        "2️⃣ Ek function greet(name) banao jo kisi ko greet kare."
      ],
      "metadata": {
        "id": "PPxxxCVPT_EO"
      }
    },
    {
      "cell_type": "code",
      "source": [
        "def greet(name):\n",
        "\n",
        "     print(\"Hello\",name)\n",
        "greet(\"Haider\")"
      ],
      "metadata": {
        "id": "fILvmhy0T6Ac",
        "colab": {
          "base_uri": "https://localhost:8080/"
        },
        "outputId": "96396189-c63b-4f01-958b-e330573c57ba"
      },
      "execution_count": null,
      "outputs": [
        {
          "output_type": "stream",
          "name": "stdout",
          "text": [
            "Hello Haider\n"
          ]
        }
      ]
    },
    {
      "cell_type": "markdown",
      "source": [
        "3️⃣ Ek function add(a, b) likho jo do numbers ka sum kare."
      ],
      "metadata": {
        "id": "e_wxsrpmVw3a"
      }
    },
    {
      "cell_type": "code",
      "source": [
        "def add(a, b):\n",
        "    return a + b\n",
        "print(add(5, 3))\n",
        "print(add(10, 20))"
      ],
      "metadata": {
        "id": "iQSLizaMVjQ_",
        "colab": {
          "base_uri": "https://localhost:8080/"
        },
        "outputId": "408f8541-b6cf-4388-c4a2-b46b3304a145"
      },
      "execution_count": null,
      "outputs": [
        {
          "output_type": "stream",
          "name": "stdout",
          "text": [
            "8\n",
            "30\n"
          ]
        }
      ]
    },
    {
      "cell_type": "markdown",
      "source": [
        "4️⃣ Ek function is_even(n) define karo jo check kare number even hai ya nahi."
      ],
      "metadata": {
        "id": "LeqdPV2KXFOV"
      }
    },
    {
      "cell_type": "code",
      "source": [
        "def is_even(n):\n",
        "    if n % 2 == 0:\n",
        "        print(n, \"ya even number ha\")\n",
        "    else:\n",
        "        print(n, \"ya even number ni ha\")\n",
        "\n",
        "x = int(input(\"phala number likho = \"))\n",
        "is_even(x)\n"
      ],
      "metadata": {
        "id": "7Poqe0_nW8uV",
        "colab": {
          "base_uri": "https://localhost:8080/"
        },
        "outputId": "eb954868-b9bb-4cc6-e52e-88ce9633ca35"
      },
      "execution_count": null,
      "outputs": [
        {
          "output_type": "stream",
          "name": "stdout",
          "text": [
            "phala number likho = 4\n",
            "4 ya even number ha\n"
          ]
        }
      ]
    },
    {
      "cell_type": "code",
      "source": [
        "import random\n",
        "\n",
        "fruits= [\"Apple\",\"banana\",\"orange\",\"grapes\",\"mango\"]\n",
        "\n",
        "print(random.choice(fruits))"
      ],
      "metadata": {
        "colab": {
          "base_uri": "https://localhost:8080/"
        },
        "id": "XemHeUZqZNg9",
        "outputId": "e1f599f9-02ef-4284-c905-3a855d724d4a"
      },
      "execution_count": null,
      "outputs": [
        {
          "output_type": "stream",
          "name": "stdout",
          "text": [
            "orange\n"
          ]
        }
      ]
    },
    {
      "cell_type": "markdown",
      "source": [
        "Ek function multiply_list(lst, factor) banao jo list ke har element ko ek factor se multiply kare."
      ],
      "metadata": {
        "id": "JUj1MXAGbqJk"
      }
    },
    {
      "cell_type": "code",
      "source": [
        "def multiply_list(lst, factor):\n",
        "    result = []\n",
        "    for num in lst:\n",
        "        result.append(num * factor)\n",
        "    return result   # result return ho raha hai\n",
        "\n",
        "# Function call\n",
        "numbers = [2, 4, 6]\n",
        "output = multiply_list(numbers, 3)   # yahan call kiya\n",
        "\n",
        "# Ab result print karo\n",
        "print(\"Result:\", output)\n"
      ],
      "metadata": {
        "id": "zc10WUqtbkh3",
        "colab": {
          "base_uri": "https://localhost:8080/"
        },
        "outputId": "f4508f1f-e996-4d67-ef57-a25f0e0710a4"
      },
      "execution_count": null,
      "outputs": [
        {
          "output_type": "stream",
          "name": "stdout",
          "text": [
            "Result: [6, 12, 18]\n"
          ]
        }
      ]
    },
    {
      "cell_type": "markdown",
      "source": [
        "7️⃣ len() function use karo aur ek function length_info(x) likho jo input ki length bataye."
      ],
      "metadata": {
        "id": "FJKHbgdBkPcn"
      }
    },
    {
      "cell_type": "code",
      "source": [
        "def length_info(x):\n",
        "    return len (x)\n",
        "\n",
        "print(length_info(\"Apple\"))\n",
        "print(length_info ([12, 14, 34, 23]))"
      ],
      "metadata": {
        "id": "LWMlXUPGkF5b",
        "colab": {
          "base_uri": "https://localhost:8080/"
        },
        "outputId": "e18bb74f-6003-4e13-bc36-a6f657c373d7"
      },
      "execution_count": null,
      "outputs": [
        {
          "output_type": "stream",
          "name": "stdout",
          "text": [
            "5\n",
            "4\n"
          ]
        }
      ]
    },
    {
      "cell_type": "markdown",
      "source": [
        "8️⃣ Ek alag module file banao (my_utils.py) jisme ek function square(x) ho jo number ka square return kare."
      ],
      "metadata": {
        "id": "ir3VX_r1QseQ"
      }
    },
    {
      "cell_type": "code",
      "source": [
        "import my_utils\n",
        "\n",
        "print(my_utils.suqare(6))\n",
        "print(my_utils.suqare(10))"
      ],
      "metadata": {
        "colab": {
          "base_uri": "https://localhost:8080/",
          "height": 366
        },
        "id": "Grm_4bs0QT9C",
        "outputId": "d1b77ffe-5230-461c-f259-43cd4247f235"
      },
      "execution_count": null,
      "outputs": [
        {
          "output_type": "error",
          "ename": "ModuleNotFoundError",
          "evalue": "No module named 'my_utils'",
          "traceback": [
            "\u001b[0;31m---------------------------------------------------------------------------\u001b[0m",
            "\u001b[0;31mModuleNotFoundError\u001b[0m                       Traceback (most recent call last)",
            "\u001b[0;32m/tmp/ipython-input-1796611184.py\u001b[0m in \u001b[0;36m<cell line: 0>\u001b[0;34m()\u001b[0m\n\u001b[0;32m----> 1\u001b[0;31m \u001b[0;32mimport\u001b[0m \u001b[0mmy_utils\u001b[0m\u001b[0;34m\u001b[0m\u001b[0;34m\u001b[0m\u001b[0m\n\u001b[0m\u001b[1;32m      2\u001b[0m \u001b[0;34m\u001b[0m\u001b[0m\n\u001b[1;32m      3\u001b[0m \u001b[0mprint\u001b[0m\u001b[0;34m(\u001b[0m\u001b[0mmy_utils\u001b[0m\u001b[0;34m.\u001b[0m\u001b[0msuqare\u001b[0m\u001b[0;34m(\u001b[0m\u001b[0;36m6\u001b[0m\u001b[0;34m)\u001b[0m\u001b[0;34m)\u001b[0m\u001b[0;34m\u001b[0m\u001b[0;34m\u001b[0m\u001b[0m\n\u001b[1;32m      4\u001b[0m \u001b[0mprint\u001b[0m\u001b[0;34m(\u001b[0m\u001b[0mmy_utils\u001b[0m\u001b[0;34m.\u001b[0m\u001b[0msuqare\u001b[0m\u001b[0;34m(\u001b[0m\u001b[0;36m10\u001b[0m\u001b[0;34m)\u001b[0m\u001b[0;34m)\u001b[0m\u001b[0;34m\u001b[0m\u001b[0;34m\u001b[0m\u001b[0m\n",
            "\u001b[0;31mModuleNotFoundError\u001b[0m: No module named 'my_utils'",
            "",
            "\u001b[0;31m---------------------------------------------------------------------------\u001b[0;32m\nNOTE: If your import is failing due to a missing package, you can\nmanually install dependencies using either !pip or !apt.\n\nTo view examples of installing some common dependencies, click the\n\"Open Examples\" button below.\n\u001b[0;31m---------------------------------------------------------------------------\u001b[0m\n"
          ],
          "errorDetails": {
            "actions": [
              {
                "action": "open_url",
                "actionText": "Open Examples",
                "url": "/notebooks/snippets/importing_libraries.ipynb"
              }
            ]
          }
        }
      ]
    },
    {
      "cell_type": "markdown",
      "source": [
        "9️⃣ Ek function circle_area(radius) banao jo circle ka area calculate kare."
      ],
      "metadata": {
        "id": "3DtPOPaqTMyU"
      }
    },
    {
      "cell_type": "code",
      "source": [
        "import math\n",
        "\n",
        "def circle_area(radius):\n",
        "    return math.pi * radius * radius\n",
        "\n",
        "print(circle_area(7))\n"
      ],
      "metadata": {
        "id": "5i-KKyc0S6mi",
        "colab": {
          "base_uri": "https://localhost:8080/"
        },
        "outputId": "942966e7-a1ac-48f1-d6bb-ceddb5c3ec80"
      },
      "execution_count": null,
      "outputs": [
        {
          "output_type": "stream",
          "name": "stdout",
          "text": [
            "153.93804002589985\n"
          ]
        }
      ]
    },
    {
      "cell_type": "markdown",
      "source": [
        "🔟 Ek function banao jisme default arguments ho, agar user value na de to default value use ho jaye."
      ],
      "metadata": {
        "id": "1Oj1QZ5Kjnd3"
      }
    },
    {
      "cell_type": "code",
      "source": [
        "def multiply_list(lst, factor):\n",
        "    result = []\n",
        "    for num in lst:\n",
        "        result.append(num * factor)\n",
        "    return result   # result return ho raha hai\n",
        "\n",
        "# Function call\n",
        "numbers = [2, 4, 6]\n",
        "output = multiply_list(numbers, 3)   # yahan call kiya\n",
        "\n",
        "# Ab result print karo\n",
        "print(\"Result:\", output)\n"
      ],
      "metadata": {
        "id": "PjQzNYmkWGLv",
        "colab": {
          "base_uri": "https://localhost:8080/"
        },
        "outputId": "4c827106-b2cf-40f0-c7d7-7b634ee6b1c6"
      },
      "execution_count": null,
      "outputs": [
        {
          "output_type": "stream",
          "name": "stdout",
          "text": [
            "Result: [6, 12, 18]\n"
          ]
        }
      ]
    }
  ]
}