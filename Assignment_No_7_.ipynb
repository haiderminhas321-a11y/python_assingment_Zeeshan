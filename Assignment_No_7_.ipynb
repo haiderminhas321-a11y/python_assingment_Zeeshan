{
  "nbformat": 4,
  "nbformat_minor": 0,
  "metadata": {
    "colab": {
      "provenance": []
    },
    "kernelspec": {
      "name": "python3",
      "display_name": "Python 3"
    },
    "language_info": {
      "name": "python"
    }
  },
  "cells": [
    {
      "cell_type": "markdown",
      "source": [
        "1️⃣ 5 fruits ka set banao aur print karo."
      ],
      "metadata": {
        "id": "JpPG2XsQ09Gs"
      }
    },
    {
      "cell_type": "code",
      "execution_count": null,
      "metadata": {
        "id": "qo0sFNV3Z3t-",
        "colab": {
          "base_uri": "https://localhost:8080/"
        },
        "outputId": "c2b6b4c9-47eb-43db-aa7f-a28ed147431c"
      },
      "outputs": [
        {
          "output_type": "stream",
          "name": "stdout",
          "text": [
            "{'Banana', 'cerry', 'orange', 'Apple', 'grapes'}\n"
          ]
        }
      ],
      "source": [
        "# fruites ka set\n",
        "fruits = {\"Apple\", \"Banana\", \"orange\", \"cerry\", \"grapes\"}\n",
        "\n",
        "print(fruits)"
      ]
    },
    {
      "cell_type": "markdown",
      "source": [
        "2️⃣ Ek naya fruit .add() se add karo aur dobara print karo."
      ],
      "metadata": {
        "id": "sNx2-Vwh19_d"
      }
    },
    {
      "cell_type": "code",
      "source": [
        "# fruit ka set\n",
        "fruits = {\"Apple\", \"Banana\", \"orange\", \"cerry\", \"grapes\"}\n",
        "# fruit set ma add\n",
        "fruits.add(\"pineapple\")\n",
        "\n",
        "print(fruits)\n"
      ],
      "metadata": {
        "colab": {
          "base_uri": "https://localhost:8080/"
        },
        "id": "B-hynLoi1wrG",
        "outputId": "7c6a5cf9-545b-4ebd-cc19-b70dbd8fa170"
      },
      "execution_count": null,
      "outputs": [
        {
          "output_type": "stream",
          "name": "stdout",
          "text": [
            "{'pineapple', 'cerry', 'orange', 'Banana', 'grapes', 'Apple'}\n"
          ]
        }
      ]
    },
    {
      "cell_type": "markdown",
      "source": [
        "3️⃣ Ek fruit .remove() se hatao. Agar fruit nahi ho set me → error aata hai."
      ],
      "metadata": {
        "id": "Mp5Kzdcr3tOV"
      }
    },
    {
      "cell_type": "code",
      "source": [
        "# fruits ka set\n",
        "fruits = {\"Apple\", \"banana\", \"orange\", \"grapes\", \"mango\"}\n",
        "\n",
        "# fruit ko remove\n",
        "fruits.remove(\"mango\")\n",
        "\n",
        "print(fruits)\n"
      ],
      "metadata": {
        "colab": {
          "base_uri": "https://localhost:8080/"
        },
        "id": "Gca8_uvl3TLi",
        "outputId": "c2c39e8f-31bf-4aa9-b8fd-0b1224343cf2"
      },
      "execution_count": null,
      "outputs": [
        {
          "output_type": "stream",
          "name": "stdout",
          "text": [
            "{'Apple', 'grapes', 'orange', 'banana'}\n"
          ]
        }
      ]
    },
    {
      "cell_type": "markdown",
      "source": [
        "4️⃣ Dusra fruit .discard() se hatao. Agar fruit nahi ho → koi error nahi aata."
      ],
      "metadata": {
        "id": "B6ZUYv4r8O-u"
      }
    },
    {
      "cell_type": "code",
      "source": [
        "# Fruits ka set\n",
        "fruits = {\"apple\", \"banana\", \"mango\", \"orange\", \"grapes\"}\n",
        "\n",
        "# 1. Ek fruit hatao jo set me hai\n",
        "fruits.discard(\"orange\")\n",
        "print(\"Orange hat gaya: {fruits}\")\n",
        "\n",
        "# 2. Ek fruit hatao jo set me nahi hai\n",
        "fruits.discard(\"papaya\")   # koi error nahi aayega\n",
        "print(\"Papaya tha hi nahi: {fruits}\")"
      ],
      "metadata": {
        "colab": {
          "base_uri": "https://localhost:8080/"
        },
        "id": "80IIPA0d9smm",
        "outputId": "4131737f-e9f3-41c7-83ae-864676991ae9"
      },
      "execution_count": null,
      "outputs": [
        {
          "output_type": "stream",
          "name": "stdout",
          "text": [
            "Orange hat gaya: {fruits}\n",
            "Papaya tha hi nahi: {fruits}\n"
          ]
        }
      ]
    },
    {
      "cell_type": "markdown",
      "source": [
        "5️⃣ .pop() use karke ek random fruit hatao aur print karo. (Random matlab koi bhi element nikal dega)."
      ],
      "metadata": {
        "id": "cQdCdXQJfQJq"
      }
    },
    {
      "cell_type": "code",
      "source": [
        "fruits = {\"apple\", \"banana\", \"orange\", \"grapes\", \"mango\"}\n",
        "\n",
        "# Fruits radam nikal raha ha\n",
        "\n",
        "remove_fruit = fruits.pop()\n",
        "\n",
        "print(\"nikla huva fruit:\",remove_fruit)\n",
        "print(\"bacha hua set:\", fruits)"
      ],
      "metadata": {
        "colab": {
          "base_uri": "https://localhost:8080/"
        },
        "id": "r6WSC6QCfKQW",
        "outputId": "effd75d5-d12e-4f3a-af24-decd5d760fa9"
      },
      "execution_count": null,
      "outputs": [
        {
          "output_type": "stream",
          "name": "stdout",
          "text": [
            "nikla huva fruit: mango\n",
            "bacha hua set: {'banana', 'orange', 'grapes', 'apple'}\n"
          ]
        }
      ]
    },
    {
      "cell_type": "markdown",
      "source": [
        "6️⃣ .clear() se pura set empty kar do aur print karke dikhado."
      ],
      "metadata": {
        "id": "6OKsQKyCjZZV"
      }
    },
    {
      "cell_type": "code",
      "source": [
        "fruits = {\"apple\", \"grapes\", \"banana\", \"orange\", \"cerry\"}\n",
        "\n",
        "# is ma .clear empty horaha ha\n",
        "\n",
        "fruits.clear()\n",
        "\n",
        "print(fruits)"
      ],
      "metadata": {
        "colab": {
          "base_uri": "https://localhost:8080/"
        },
        "id": "a0FNSCXhjNhh",
        "outputId": "5e5db321-a091-420e-fdd6-f8f8a9b14e8b"
      },
      "execution_count": null,
      "outputs": [
        {
          "output_type": "stream",
          "name": "stdout",
          "text": [
            "set()\n"
          ]
        }
      ]
    },
    {
      "cell_type": "markdown",
      "source": [
        "7️⃣ Do sets of numbers banao aur unke:\n",
        "\n",
        "union()\n",
        "\n",
        "intersection()\n",
        "\n",
        "difference()\n",
        "\n",
        "symmetric_difference()\n"
      ],
      "metadata": {
        "id": "YRY_bu44koU0"
      }
    },
    {
      "cell_type": "code",
      "source": [
        "from typing import Union\n",
        "# set1 union\n",
        "set1 = {2,3,4,2,6,7,8}\n",
        "set2 = {7,9,7,5,4,3,7}\n",
        "print(\"Union:\", set1.union(set2))\n",
        "\n",
        "# set2 intersection\n",
        "\n",
        "print(\"intersection:\", set1.intersection(set2))\n",
        "# set3 difference\n",
        "\n",
        "print(\"difference (set1 - set2):\", set1.difference (set2))\n",
        "print(\"difference(set2 - set1):\", set2.difference (set1))\n",
        "\n",
        "# set4 symmetric_differenc\n",
        "\n",
        "print(\"symmetric_differenc:\", set1.symmetric_difference(set2))"
      ],
      "metadata": {
        "colab": {
          "base_uri": "https://localhost:8080/"
        },
        "id": "QMc45nBmkZ3n",
        "outputId": "fa21d3c2-88f8-4754-bbbc-290ca3610173"
      },
      "execution_count": null,
      "outputs": [
        {
          "output_type": "stream",
          "name": "stdout",
          "text": [
            "Union: {2, 3, 4, 5, 6, 7, 8, 9}\n",
            "intersection: {3, 4, 7}\n",
            "difference (set1 - set2): {8, 2, 6}\n",
            "difference(set2 - set1): {9, 5}\n",
            "symmetric_differenc: {2, 5, 6, 8, 9}\n"
          ]
        }
      ]
    },
    {
      "cell_type": "markdown",
      "source": [
        "8️⃣ Dekho ke ek set dusre ka subset ya superset hai ya nahi."
      ],
      "metadata": {
        "id": "2GsXiahJqjde"
      }
    },
    {
      "cell_type": "code",
      "source": [
        "set1 = {1, 2, 3}\n",
        "set2 = {1, 2, 3, 4, 5}\n",
        "\n",
        "# subset check\n",
        "print(\"set1 subset of set2?\", set1.issubset(set2))   # True\n",
        "print(\"set2 subset of set1?\", set2.issubset(set1))   # False\n",
        "\n",
        "# superset check\n",
        "print(\"set2 superset of set1?\", set2.issuperset(set1))  # True\n",
        "print(\"set1 superset of set2?\", set1.issuperset(set2))"
      ],
      "metadata": {
        "id": "VjexvhDcqgqx",
        "colab": {
          "base_uri": "https://localhost:8080/"
        },
        "outputId": "44c5644c-cddb-4e83-f1ed-a31ccd8fdec3"
      },
      "execution_count": null,
      "outputs": [
        {
          "output_type": "stream",
          "name": "stdout",
          "text": [
            "set1 subset of set2? True\n",
            "set2 subset of set1? False\n",
            "set2 superset of set1? True\n",
            "set1 superset of set2? False\n"
          ]
        }
      ]
    },
    {
      "cell_type": "markdown",
      "source": [
        "9️⃣ Ek frozenset vowels ka banao aur usme add karne ki koshish karo → immutability ka error aayega."
      ],
      "metadata": {
        "id": "Tff2-q6jOtJ-"
      }
    },
    {
      "cell_type": "code",
      "source": [
        "vowals = frozenset({\"a\", \"e\", \"i\", \"o\", \"u\"})\n",
        "\n",
        "print(\"frozenset:\", vowals )\n",
        "\n",
        "vowals.add(\"y\")\n",
        "\n",
        "AttributeError: 'frozenset' object has no attribute 'add'\n",
        "\n",
        "new_vowal = vowals| frozenset({\"y\"})\n",
        "\n",
        "print(\"new frozenset:\", new_vowal)\n"
      ],
      "metadata": {
        "id": "8h1bla5yOrwG",
        "colab": {
          "base_uri": "https://localhost:8080/",
          "height": 106
        },
        "outputId": "8b4ebb1c-d9ae-4206-ca33-673aa666f6d3"
      },
      "execution_count": null,
      "outputs": [
        {
          "output_type": "error",
          "ename": "SyntaxError",
          "evalue": "invalid syntax (ipython-input-584543750.py, line 7)",
          "traceback": [
            "\u001b[0;36m  File \u001b[0;32m\"/tmp/ipython-input-584543750.py\"\u001b[0;36m, line \u001b[0;32m7\u001b[0m\n\u001b[0;31m    AttributeError: 'frozenset' object has no attribute 'add'\u001b[0m\n\u001b[0m                                ^\u001b[0m\n\u001b[0;31mSyntaxError\u001b[0m\u001b[0;31m:\u001b[0m invalid syntax\n"
          ]
        }
      ]
    },
    {
      "cell_type": "markdown",
      "source": [
        "🔟 User se ek character input lo aur loop me check karo ke wo vowel set me hai ya nahi."
      ],
      "metadata": {
        "id": "L49BRa4oAPDC"
      }
    },
    {
      "cell_type": "code",
      "source": [
        "vowals = {\"a\", \"e\", \"i\", \"o\", \"u\",}\n",
        "\n",
        "char = input(\"Enter a character:\"),lower()\n",
        "\n",
        "found = Fales\n",
        "\n",
        " for v in vowals:\n",
        "\n",
        "      if char == v:\n",
        "\n",
        "        found = true\n",
        "\n",
        "         brack\n",
        "\n",
        "if found\n",
        "  print(char \"is a vowals.\")\n",
        "  print(char \"is not a \")\n",
        "\n"
      ],
      "metadata": {
        "id": "FW68AwSM_pId"
      },
      "execution_count": null,
      "outputs": []
    },
    {
      "cell_type": "markdown",
      "source": [
        "1️⃣ Sets Python me kyon useful hote hain? (Jaise duplicates remove karne ke liye)\n"
      ],
      "metadata": {
        "id": "KKLko3z9rqM5"
      }
    },
    {
      "cell_type": "code",
      "source": [],
      "metadata": {
        "id": "WTNx9mzDrpZI"
      },
      "execution_count": null,
      "outputs": []
    }
  ]
}